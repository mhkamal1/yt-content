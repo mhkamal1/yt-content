{
 "cells": [
  {
   "cell_type": "code",
   "execution_count": 100,
   "metadata": {},
   "outputs": [
    {
     "name": "stdout",
     "output_type": "stream",
     "text": [
      "called func2\n"
     ]
    }
   ],
   "source": [
    "def func(arg):\n",
    "    func2()\n",
    "\n",
    "def func2(num1, num2):\n",
    "    print('called func2')\n",
    "\n",
    "func(func2)"
   ]
  },
  {
   "cell_type": "code",
   "execution_count": 95,
   "metadata": {},
   "outputs": [],
   "source": [
    "def decorator(func):\n",
    "    def wrapper(*args, **kwargs):\n",
    "        # do something with args/kwargs \n",
    "        nums = args[:-1]\n",
    "\n",
    "        try:\n",
    "            modified_args = tuple(map(int, nums)) + (args[-1],)\n",
    "        except ValueError:\n",
    "            return {'message': 'Invalid Input'}\n",
    "\n",
    "        return func(*modified_args, **kwargs)\n",
    "    \n",
    "    return wrapper"
   ]
  },
  {
   "cell_type": "code",
   "execution_count": 96,
   "metadata": {},
   "outputs": [],
   "source": [
    "@decorator\n",
    "def simpleArith(num1, num2, operator):\n",
    "\n",
    "    if operator == '+':\n",
    "        return {\"result\": num1 + num2}\n",
    "    elif operator == '-':\n",
    "        return {\"result\": num1 - num2}\n",
    "    elif operator == '*':\n",
    "        return{\"result\": num1 * num2}\n",
    "    elif operator == '/':\n",
    "        return {\"result\": num1 / num2}\n",
    "\n",
    "@decorator\n",
    "def complexArith(num1, num2, num3, operator):\n",
    "\n",
    "    if operator == '+':\n",
    "        return {\"result\": num1 + num2 + num3}\n",
    "    elif operator == '-':\n",
    "        return {\"result\": num1 - num2 - num3}\n",
    "    elif operator == '*':\n",
    "        return {\"result\": num1 * num2 * num3}\n",
    "    elif operator == '/':\n",
    "        return {\"result\": num1 / num2 / num3}"
   ]
  },
  {
   "cell_type": "code",
   "execution_count": 103,
   "metadata": {},
   "outputs": [
    {
     "data": {
      "text/plain": [
       "{'message': 'Invalid Input'}"
      ]
     },
     "execution_count": 103,
     "metadata": {},
     "output_type": "execute_result"
    }
   ],
   "source": [
    "simpleArith(1, '-', '+')"
   ]
  }
 ],
 "metadata": {
  "kernelspec": {
   "display_name": "comptools",
   "language": "python",
   "name": "python3"
  },
  "language_info": {
   "codemirror_mode": {
    "name": "ipython",
    "version": 3
   },
   "file_extension": ".py",
   "mimetype": "text/x-python",
   "name": "python",
   "nbconvert_exporter": "python",
   "pygments_lexer": "ipython3",
   "version": "3.9.2 (tags/v3.9.2:1a79785, Feb 19 2021, 13:44:55) [MSC v.1928 64 bit (AMD64)]"
  },
  "orig_nbformat": 4,
  "vscode": {
   "interpreter": {
    "hash": "e991eec70dcdfedc5f1bcac3fae689529e9bd44f9e597bb7444204679111271f"
   }
  }
 },
 "nbformat": 4,
 "nbformat_minor": 2
}
