{
 "cells": [
  {
   "cell_type": "markdown",
   "metadata": {},
   "source": [
    "## Imports"
   ]
  },
  {
   "cell_type": "code",
   "execution_count": 1,
   "metadata": {},
   "outputs": [],
   "source": [
    "import os\n",
    "import openai\n",
    "from langchain.document_loaders import TextLoader, PyPDFLoader, Docx2txtLoader\n",
    "from langchain.text_splitter import RecursiveCharacterTextSplitter\n",
    "from langchain.embeddings import OpenAIEmbeddings\n",
    "from langchain.embeddings import GPT4AllEmbeddings\n",
    "from langchain.vectorstores import Chroma\n",
    "from langchain.chains import RetrievalQA\n",
    "from langchain.chat_models import ChatOpenAI\n",
    "from langchain.llms import GPT4All\n",
    "from sklearn.metrics.pairwise import cosine_similarity\n",
    "import numpy as np\n",
    "from sklearn.manifold import TSNE\n",
    "from sklearn.decomposition import PCA\n",
    "from mpl_toolkits import mplot3d\n",
    "from gpt4all import Embed4All"
   ]
  },
  {
   "cell_type": "code",
   "execution_count": 2,
   "metadata": {},
   "outputs": [],
   "source": [
    "### Additional dependencies\n",
    "### Especially if you want to use GPT4all\n",
    "# %pip install gpt4all > /dev/null\n",
    "# %pip install pypdf\n",
    "# %pip install chromadb\n",
    "# %pip install docx2txt\n",
    "# %pip install plotly-express\n",
    "# %pip install nbformat"
   ]
  },
  {
   "cell_type": "markdown",
   "metadata": {},
   "source": [
    "## A quick look at embeddings and cosine similarities"
   ]
  },
  {
   "cell_type": "markdown",
   "metadata": {},
   "source": [
    "### Get embeddings with GPT4all (it's free!!!)"
   ]
  },
  {
   "cell_type": "code",
   "execution_count": 3,
   "metadata": {},
   "outputs": [
    {
     "name": "stdout",
     "output_type": "stream",
     "text": [
      "Found model file at  /Users/kamal/.cache/gpt4all/ggml-all-MiniLM-L6-v2-f16.bin\n"
     ]
    },
    {
     "name": "stderr",
     "output_type": "stream",
     "text": [
      "objc[549]: Class GGMLMetalClass is implemented in both /Users/kamal/miniconda3/envs/myenv/lib/python3.11/site-packages/gpt4all/llmodel_DO_NOT_MODIFY/build/libreplit-mainline-metal.dylib (0x17b214228) and /Users/kamal/miniconda3/envs/myenv/lib/python3.11/site-packages/gpt4all/llmodel_DO_NOT_MODIFY/build/libllamamodel-mainline-metal.dylib (0x17b0dc228). One of the two will be used. Which one is undefined.\n"
     ]
    },
    {
     "data": {
      "text/plain": [
       "' With OpenAI '"
      ]
     },
     "execution_count": 3,
     "metadata": {},
     "output_type": "execute_result"
    }
   ],
   "source": [
    "embedder = Embed4All()\n",
    "\n",
    "embed1 = embedder.embed(\"Dogs are animals with four legs. They are very cute and fluffy.\")\n",
    "embed_sim = embedder.embed(\"Cats are animals with four legs. They are very cute and fluffy.\")\n",
    "embed_rand = embedder.embed(\"The weather today is super sunny. I am going to the beach.\")\n",
    "\n",
    "\n",
    "## resize to (1, n_dim) for cosine_similarity func\n",
    "embed1 = np.array(embed1).reshape(1, -1) \n",
    "embed_sim = np.array(embed_sim).reshape(1, -1)\n",
    "embed_rand = np.array(embed_rand).reshape(1, -1)\n",
    "\n",
    "stacked_embeds = np.vstack([embed1, embed_sim, embed_rand])\n",
    "stacked_embeds.shape\n",
    "\n",
    "embed1.shape\n",
    "\n",
    "''' With OpenAI '''\n",
    "# from langchain.embeddings.openai import OpenAIEmbeddings\n",
    "# embedder = OpenAIEmbeddings()\n",
    "\n",
    "# embed1 = embedder.embed_query(\"Dogs are animals with four legs. They are very cute and fluffy.\")\n",
    "# embed_sim = embedder.embed_query(\"Cats are animals with four legs. They are very cute and fluffy.\")\n",
    "# embed_rand = embedder.embed_query(\"Bananas are fruits. They are very sweet and delicious.\")\n",
    "# embed_rand2 = embedder.embed_query(\"Apple are fruits. They are very sweet and delicious.\")\n",
    "\n",
    "# ## resize to (1, n_dim) for cosine_similarity func\n",
    "# embed1 = np.array(embed1).reshape(1, -1) \n",
    "# embed_sim = np.array(embed_sim).reshape(1, -1)\n",
    "# embed_rand = np.array(embed_rand).reshape(1, -1)\n",
    "# embed_rand2 = np.array(embed_rand2).reshape(1, -1)\n",
    "\n",
    "# stacked_embeds = np.vstack([embed1, embed_sim, embed_rand, embed_rand2])"
   ]
  },
  {
   "cell_type": "code",
   "execution_count": 18,
   "metadata": {},
   "outputs": [
    {
     "data": {
      "text/plain": [
       "(1, 384)"
      ]
     },
     "execution_count": 18,
     "metadata": {},
     "output_type": "execute_result"
    }
   ],
   "source": [
    "embed_sim.shape"
   ]
  },
  {
   "cell_type": "code",
   "execution_count": 19,
   "metadata": {},
   "outputs": [
    {
     "data": {
      "text/plain": [
       "array([[ 4.63501662e-02,  7.02913967e-04,  3.01385019e-02,\n",
       "         4.35452424e-02, -1.32005543e-01,  9.47442651e-03,\n",
       "        -2.92135384e-02, -2.29671337e-02,  6.20180815e-02,\n",
       "         9.84853208e-02,  9.20763332e-03, -4.84318510e-02,\n",
       "         5.15393130e-02,  5.24170659e-02,  1.33189112e-02,\n",
       "         3.48832854e-03, -4.20953892e-02,  1.44719202e-02,\n",
       "        -5.06436341e-02, -7.50018191e-03, -9.78390500e-03,\n",
       "        -5.41006736e-02,  1.52601637e-02,  1.59246195e-02,\n",
       "        -8.14205259e-02, -1.78305041e-02, -6.41546771e-02,\n",
       "        -7.36129507e-02,  3.23860198e-02, -3.07674259e-02,\n",
       "        -3.16869281e-02,  6.10159375e-02, -4.61407043e-02,\n",
       "        -7.92953465e-03,  1.29123777e-03, -6.09800741e-02,\n",
       "         7.09839389e-02,  5.04629966e-03,  6.21156618e-02,\n",
       "         6.05314672e-02,  2.34845635e-02, -2.62934342e-02,\n",
       "         1.25857061e-02, -3.74076366e-02, -2.30180770e-02,\n",
       "         2.23230906e-02, -4.83298786e-02, -9.71769765e-02,\n",
       "         2.23960876e-02, -6.33944699e-04,  3.70944943e-03,\n",
       "         1.16339931e-02, -1.22183226e-02,  6.27180636e-02,\n",
       "        -6.43885434e-02, -1.04628533e-01, -6.57800138e-02,\n",
       "        -1.36949560e-02,  9.24317073e-03, -1.18298279e-02,\n",
       "         1.05322860e-01,  1.14301234e-01,  7.82537535e-02,\n",
       "         3.89210768e-02, -4.00941633e-02, -2.03800909e-02,\n",
       "        -1.26568228e-01, -7.19617456e-02, -6.35188073e-02,\n",
       "        -3.17760520e-02, -4.25979123e-03, -2.90835090e-03,\n",
       "         8.46958309e-02, -4.67991605e-02, -3.01973093e-02,\n",
       "        -6.44305721e-02,  7.49144563e-03,  4.67113405e-03,\n",
       "         9.36586782e-02, -4.55988161e-02, -6.45182729e-02,\n",
       "        -2.48040985e-02,  2.79671568e-02, -1.67863537e-02,\n",
       "        -4.36258763e-02,  2.66388757e-03, -1.78457089e-02,\n",
       "        -6.86653480e-02, -1.06599793e-01,  4.12739086e-04,\n",
       "         4.86678164e-03,  7.84464879e-04, -1.89066753e-02,\n",
       "        -9.64810513e-03, -7.10303150e-03,  2.69661844e-02,\n",
       "         1.74791832e-02, -9.20104459e-02,  1.86574701e-02,\n",
       "         2.23336648e-02,  2.05496745e-03, -1.84433032e-02,\n",
       "         4.91119511e-02,  3.47505212e-02,  3.74419577e-02,\n",
       "        -2.67616566e-02,  9.37266182e-03,  1.91644598e-02,\n",
       "         1.82752367e-02, -3.30329803e-03, -4.92824726e-02,\n",
       "        -4.16462868e-02, -4.79909182e-02,  5.86193986e-02,\n",
       "         2.21131183e-02,  1.05694840e-02, -1.01656616e-01,\n",
       "        -8.37401599e-02,  8.52118619e-03, -8.22270960e-02,\n",
       "        -3.23322974e-03,  7.17927665e-02,  7.04575479e-02,\n",
       "         4.90183942e-03,  7.41315857e-02, -3.71584743e-02,\n",
       "        -1.92007031e-02, -2.88598024e-33,  6.77160844e-02,\n",
       "         2.51250863e-02,  7.39723444e-02, -6.05747551e-02,\n",
       "         2.19512228e-02, -1.36234798e-02,  2.14729272e-02,\n",
       "         1.53591856e-02, -6.19848333e-02,  2.04138700e-02,\n",
       "        -7.86625072e-02, -1.28114445e-03,  7.67888799e-02,\n",
       "         4.54517500e-03, -3.39402184e-02, -3.53445038e-02,\n",
       "         1.50274225e-02, -3.91810015e-02,  1.05085634e-01,\n",
       "         2.36928035e-02,  4.96665807e-03,  6.42546862e-02,\n",
       "         7.92655572e-02,  5.00380024e-02,  3.87199223e-02,\n",
       "         3.45823988e-02, -5.17648943e-02, -9.57010239e-02,\n",
       "        -5.49250245e-02,  5.12169600e-02,  2.49128565e-02,\n",
       "         2.89401617e-02,  1.01175637e-03, -3.52031216e-02,\n",
       "        -1.01315923e-01, -8.05043206e-02, -1.93303768e-02,\n",
       "        -8.01339969e-02, -1.51650119e-03,  1.26379073e-01,\n",
       "         7.91595206e-02, -1.19016424e-01,  3.81418057e-02,\n",
       "        -3.29907015e-02,  1.59804753e-04,  5.06893322e-02,\n",
       "        -4.48942743e-02, -2.08550133e-02, -9.70316678e-02,\n",
       "        -4.33141738e-03,  3.54167968e-02,  9.16640684e-02,\n",
       "         1.22594818e-01, -1.43724531e-02,  2.10513975e-02,\n",
       "        -1.81740969e-02, -3.80917713e-02,  3.63376294e-03,\n",
       "        -3.75712179e-02,  1.05283268e-01,  2.58121453e-02,\n",
       "         6.29456565e-02, -6.30676281e-03, -1.05359524e-01,\n",
       "         7.83283487e-02, -1.30603448e-01,  5.67207951e-03,\n",
       "         4.97884750e-02, -6.95554838e-02,  4.27240282e-02,\n",
       "         1.16009200e-02, -4.28569987e-02,  4.83150072e-02,\n",
       "        -8.61886069e-02,  5.51506616e-02, -4.45990786e-02,\n",
       "         5.40630110e-02, -5.25020482e-03,  4.39008931e-03,\n",
       "         8.33550654e-03,  1.12276888e-02,  8.17568898e-02,\n",
       "         1.96512733e-02, -7.67603226e-04, -5.63992769e-04,\n",
       "        -3.41054536e-02,  5.67415431e-02, -3.60377058e-02,\n",
       "         3.07999030e-02,  2.20079627e-02, -7.29233548e-02,\n",
       "        -2.52150521e-02, -3.83706763e-03,  1.34503031e-02,\n",
       "         2.26061493e-02, -6.69652453e-34,  4.08403724e-02,\n",
       "         7.57818818e-02, -8.58455002e-02,  3.00473422e-02,\n",
       "        -8.48862678e-02,  1.28383460e-02, -4.40323986e-02,\n",
       "         5.23135550e-02, -1.13648018e-02,  6.81812465e-02,\n",
       "         4.60949838e-02,  7.51743047e-03,  2.02148668e-02,\n",
       "        -5.14954329e-02,  3.80901098e-02,  3.06262784e-02,\n",
       "        -4.66028489e-02, -8.47814232e-02,  7.62126446e-02,\n",
       "        -3.06646004e-02, -3.25853862e-02,  4.26217914e-02,\n",
       "        -7.17953444e-02,  2.72162864e-03,  3.71657386e-02,\n",
       "         3.64971384e-02,  1.56864803e-02, -8.23372975e-02,\n",
       "        -5.88373467e-02, -5.21551259e-03, -5.08499192e-03,\n",
       "        -9.37519744e-02, -1.09882047e-02, -2.10205764e-02,\n",
       "         4.35323315e-03, -2.90695988e-02, -6.64309263e-02,\n",
       "        -3.44306827e-02,  2.19443850e-02, -1.95334777e-02,\n",
       "         8.09803829e-02, -8.24720785e-02,  6.04691692e-02,\n",
       "         5.12734661e-03,  3.47677432e-02,  4.44493722e-03,\n",
       "        -1.05793606e-02,  8.85148719e-02, -1.04414430e-02,\n",
       "         6.87063206e-03, -3.55512463e-02, -5.21968044e-02,\n",
       "        -1.26501098e-02, -4.69970331e-02,  1.07992468e-02,\n",
       "        -2.85262801e-02, -1.84899420e-02,  3.54855731e-02,\n",
       "         2.94962060e-02,  3.12151089e-02, -6.83637485e-02,\n",
       "         9.01052542e-03,  4.89617139e-02,  7.34055787e-02,\n",
       "        -6.82823807e-02, -2.80905385e-02, -3.31089534e-02,\n",
       "        -6.29120022e-02,  3.00260577e-02, -1.04160361e-01,\n",
       "        -2.47612186e-02,  1.83289144e-02, -1.37271574e-02,\n",
       "         3.33274491e-02,  7.89058581e-02,  6.92471862e-02,\n",
       "         2.56318767e-02, -6.12725466e-02,  2.82947384e-02,\n",
       "         7.11008348e-03, -7.87706152e-02, -5.98845631e-02,\n",
       "         2.85750795e-02, -5.23476070e-03, -5.29163927e-02,\n",
       "         8.58597085e-03, -5.65103581e-03,  9.66373831e-02,\n",
       "         4.98299971e-02, -3.89379710e-02, -1.16400346e-02,\n",
       "         6.33271262e-02,  7.68359751e-02,  6.32196525e-03,\n",
       "        -1.92588251e-02, -2.31386714e-08,  4.44973260e-03,\n",
       "         1.48937618e-02, -2.20901519e-02, -4.67476482e-03,\n",
       "        -4.89056744e-02,  9.04241297e-03,  6.59379968e-03,\n",
       "        -7.32339500e-03, -4.86291051e-02, -3.13508287e-02,\n",
       "         5.79144135e-02, -3.14359926e-02, -9.14492607e-02,\n",
       "         1.37598263e-02,  4.56182212e-02,  4.56247255e-02,\n",
       "        -7.30296597e-03,  2.04573348e-02,  8.39704797e-02,\n",
       "         2.25093681e-02, -6.12333491e-02, -1.61125008e-02,\n",
       "        -9.88743920e-03, -6.59912825e-03,  1.28549039e-02,\n",
       "        -1.32731553e-02,  3.30147073e-02, -4.17235643e-02,\n",
       "        -7.27623701e-02,  3.99816744e-02,  2.01903246e-02,\n",
       "         4.66122590e-02,  4.83148918e-02, -4.14555483e-02,\n",
       "         1.05954967e-01, -6.05626740e-02,  5.01623414e-02,\n",
       "        -8.84727165e-02,  6.54413626e-02, -2.26803664e-02,\n",
       "        -7.69832730e-03,  1.07621714e-01, -3.46257864e-03,\n",
       "        -6.52581304e-02,  2.18256842e-02,  3.30615379e-02,\n",
       "        -7.05409935e-03, -2.10385676e-02,  3.30979452e-02,\n",
       "        -1.47299655e-03, -2.04102531e-01,  5.61325923e-02,\n",
       "         1.71026941e-02,  6.71666786e-02, -3.87213677e-02,\n",
       "        -4.36014347e-02, -1.44347036e-02, -9.15184841e-02,\n",
       "         2.67713740e-02,  1.12794135e-02,  3.77858542e-02,\n",
       "         8.12584385e-02,  4.28421013e-02,  2.10501766e-03]])"
      ]
     },
     "execution_count": 19,
     "metadata": {},
     "output_type": "execute_result"
    }
   ],
   "source": [
    "embed1"
   ]
  },
  {
   "cell_type": "code",
   "execution_count": 20,
   "metadata": {},
   "outputs": [
    {
     "name": "stdout",
     "output_type": "stream",
     "text": [
      "[[0.83226431]]\n",
      "[[0.02112949]]\n",
      "(1, 384)\n",
      "num dimensions: 384\n"
     ]
    }
   ],
   "source": [
    "# Higher = More similar!\n",
    "print(cosine_similarity(embed1, embed_sim))\n",
    "print(cosine_similarity(embed1, embed_rand))\n",
    "print(embed1.shape)\n",
    "print(\"num dimensions:\", embed1.shape[1]) ## Number of features, much higher if using ChatGPT"
   ]
  },
  {
   "cell_type": "markdown",
   "metadata": {},
   "source": [
    "### Dimensionality reduction before visualizing"
   ]
  },
  {
   "cell_type": "code",
   "execution_count": 7,
   "metadata": {},
   "outputs": [
    {
     "name": "stdout",
     "output_type": "stream",
     "text": [
      "(3, 3)\n",
      "[0.88298917 1.         1.        ]\n"
     ]
    }
   ],
   "source": [
    "pca = PCA(n_components=3)\n",
    "z=pca.fit_transform(stacked_embeds)\n",
    "print(z.shape)\n",
    "print(pca.explained_variance_ratio_.cumsum())"
   ]
  },
  {
   "cell_type": "code",
   "execution_count": 8,
   "metadata": {},
   "outputs": [
    {
     "name": "stdout",
     "output_type": "stream",
     "text": [
      "[-4.49530104e-01  2.91445004e-01  3.50092946e-16]\n",
      "[-4.68583954e-01 -2.87440420e-01  3.50092946e-16]\n",
      "[ 9.18114058e-01 -4.00458459e-03  3.50092946e-16]\n"
     ]
    },
    {
     "data": {
      "text/plain": [
       "array([[ 1.        ,  0.83226431,  0.02112949],\n",
       "       [ 0.83226431,  1.        , -0.00163363],\n",
       "       [ 0.02112949, -0.00163363,  1.        ]])"
      ]
     },
     "execution_count": 8,
     "metadata": {},
     "output_type": "execute_result"
    }
   ],
   "source": [
    "# no. samples x features\n",
    "print(z[0,:]) # first sample\n",
    "print(z[1,:])\n",
    "print(z[2,:])\n",
    "\n",
    "cosine_similarity(stacked_embeds)"
   ]
  },
  {
   "cell_type": "markdown",
   "metadata": {},
   "source": [
    "### Visualizing"
   ]
  },
  {
   "cell_type": "markdown",
   "metadata": {},
   "source": [
    "### A 2d plot"
   ]
  },
  {
   "cell_type": "code",
   "execution_count": 9,
   "metadata": {},
   "outputs": [
    {
     "data": {
      "image/png": "[encoded data removed]",
      "text/plain": [
       "<Figure size 640x480 with 1 Axes>"
      ]
     },
     "metadata": {},
     "output_type": "display_data"
    }
   ],
   "source": [
    "import matplotlib.pyplot as plt\n",
    "\n",
    "plt.scatter(z[:,0], z[:,1], c=['r','g', 'b']) #plotting first two dims\n",
    "plt.show()"
   ]
  },
  {
   "cell_type": "markdown",
   "metadata": {},
   "source": [
    "#### A 3d plot"
   ]
  },
  {
   "cell_type": "code",
   "execution_count": 10,
   "metadata": {},
   "outputs": [
    {
     "name": "stdout",
     "output_type": "stream",
     "text": [
      "Renderers configuration\n",
      "-----------------------\n",
      "    Default renderer: 'vscode'\n",
      "    Available renderers:\n",
      "        ['plotly_mimetype', 'jupyterlab', 'nteract', 'vscode',\n",
      "         'notebook', 'notebook_connected', 'kaggle', 'azure', 'colab',\n",
      "         'cocalc', 'databricks', 'json', 'png', 'jpeg', 'jpg', 'svg',\n",
      "         'pdf', 'browser', 'firefox', 'chrome', 'chromium', 'iframe',\n",
      "         'iframe_connected', 'sphinx_gallery', 'sphinx_gallery_png']\n",
      "\n"
     ]
    },
    {
     "data": {
      "text/html": [
       "        <script type=\"text/javascript\">\n",
       "        window.PlotlyConfig = {MathJaxConfig: 'local'};\n",
       "        if (window.MathJax && window.MathJax.Hub && window.MathJax.Hub.Config) {window.MathJax.Hub.Config({SVG: {font: \"STIX-Web\"}});}\n",
       "        if (typeof require !== 'undefined') {\n",
       "        require.undef(\"plotly\");\n",
       "        requirejs.config({\n",
       "            paths: {\n",
       "                'plotly': ['https://cdn.plot.ly/plotly-2.26.0.min']\n",
       "            }\n",
       "        });\n",
       "        require(['plotly'], function(Plotly) {\n",
       "            window._Plotly = Plotly;\n",
       "        });\n",
       "        }\n",
       "        </script>\n",
       "        "
      ]
     },
     "metadata": {},
     "output_type": "display_data"
    },
    {
     "data": {
      "text/html": [
       "<div>                            <div id=\"1eb51e0c-a22d-408b-bfcf-6a1862a641ab\" class=\"plotly-graph-div\" style=\"height:525px; width:100%;\"></div>            <script type=\"text/javascript\">                require([\"plotly\"], function(Plotly) {                    window.PLOTLYENV=window.PLOTLYENV || {};                                    if (document.getElementById(\"1eb51e0c-a22d-408b-bfcf-6a1862a641ab\")) {                    Plotly.newPlot(                        \"1eb51e0c-a22d-408b-bfcf-6a1862a641ab\",                        [{\"hovertemplate\":\"color=r\\u003cbr\\u003ex=%{x}\\u003cbr\\u003ey=%{y}\\u003cbr\\u003ez=%{z}\\u003cextra\\u003e\\u003c\\u002fextra\\u003e\",\"legendgroup\":\"r\",\"marker\":{\"color\":\"#636efa\",\"symbol\":\"circle\"},\"mode\":\"markers\",\"name\":\"r\",\"scene\":\"scene\",\"showlegend\":true,\"x\":[-0.4495301039690436],\"y\":[0.29144500408694557],\"z\":[3.500929458947116e-16],\"type\":\"scatter3d\"},{\"hovertemplate\":\"color=g\\u003cbr\\u003ex=%{x}\\u003cbr\\u003ey=%{y}\\u003cbr\\u003ez=%{z}\\u003cextra\\u003e\\u003c\\u002fextra\\u003e\",\"legendgroup\":\"g\",\"marker\":{\"color\":\"#EF553B\",\"symbol\":\"circle\"},\"mode\":\"markers\",\"name\":\"g\",\"scene\":\"scene\",\"showlegend\":true,\"x\":[-0.4685839542982066],\"y\":[-0.28744041950058646],\"z\":[3.5009294589471075e-16],\"type\":\"scatter3d\"},{\"hovertemplate\":\"color=b\\u003cbr\\u003ex=%{x}\\u003cbr\\u003ey=%{y}\\u003cbr\\u003ez=%{z}\\u003cextra\\u003e\\u003c\\u002fextra\\u003e\",\"legendgroup\":\"b\",\"marker\":{\"color\":\"#00cc96\",\"symbol\":\"circle\"},\"mode\":\"markers\",\"name\":\"b\",\"scene\":\"scene\",\"showlegend\":true,\"x\":[0.9181140582672509],\"y\":[-0.004004584586359739],\"z\":[3.5009294589471085e-16],\"type\":\"scatter3d\"}],                        {\"template\":{\"data\":{\"histogram2dcontour\":[{\"type\":\"histogram2dcontour\",\"colorbar\":{\"outlinewidth\":0,\"ticks\":\"\"},\"colorscale\":[[0.0,\"#0d0887\"],[0.1111111111111111,\"#46039f\"],[0.2222222222222222,\"#7201a8\"],[0.3333333333333333,\"#9c179e\"],[0.4444444444444444,\"#bd3786\"],[0.5555555555555556,\"#d8576b\"],[0.6666666666666666,\"#ed7953\"],[0.7777777777777778,\"#fb9f3a\"],[0.8888888888888888,\"#fdca26\"],[1.0,\"#f0f921\"]]}],\"choropleth\":[{\"type\":\"choropleth\",\"colorbar\":{\"outlinewidth\":0,\"ticks\":\"\"}}],\"histogram2d\":[{\"type\":\"histogram2d\",\"colorbar\":{\"outlinewidth\":0,\"ticks\":\"\"},\"colorscale\":[[0.0,\"#0d0887\"],[0.1111111111111111,\"#46039f\"],[0.2222222222222222,\"#7201a8\"],[0.3333333333333333,\"#9c179e\"],[0.4444444444444444,\"#bd3786\"],[0.5555555555555556,\"#d8576b\"],[0.6666666666666666,\"#ed7953\"],[0.7777777777777778,\"#fb9f3a\"],[0.8888888888888888,\"#fdca26\"],[1.0,\"#f0f921\"]]}],\"heatmap\":[{\"type\":\"heatmap\",\"colorbar\":{\"outlinewidth\":0,\"ticks\":\"\"},\"colorscale\":[[0.0,\"#0d0887\"],[0.1111111111111111,\"#46039f\"],[0.2222222222222222,\"#7201a8\"],[0.3333333333333333,\"#9c179e\"],[0.4444444444444444,\"#bd3786\"],[0.5555555555555556,\"#d8576b\"],[0.6666666666666666,\"#ed7953\"],[0.7777777777777778,\"#fb9f3a\"],[0.8888888888888888,\"#fdca26\"],[1.0,\"#f0f921\"]]}],\"heatmapgl\":[{\"type\":\"heatmapgl\",\"colorbar\":{\"outlinewidth\":0,\"ticks\":\"\"},\"colorscale\":[[0.0,\"#0d0887\"],[0.1111111111111111,\"#46039f\"],[0.2222222222222222,\"#7201a8\"],[0.3333333333333333,\"#9c179e\"],[0.4444444444444444,\"#bd3786\"],[0.5555555555555556,\"#d8576b\"],[0.6666666666666666,\"#ed7953\"],[0.7777777777777778,\"#fb9f3a\"],[0.8888888888888888,\"#fdca26\"],[1.0,\"#f0f921\"]]}],\"contourcarpet\":[{\"type\":\"contourcarpet\",\"colorbar\":{\"outlinewidth\":0,\"ticks\":\"\"}}],\"contour\":[{\"type\":\"contour\",\"colorbar\":{\"outlinewidth\":0,\"ticks\":\"\"},\"colorscale\":[[0.0,\"#0d0887\"],[0.1111111111111111,\"#46039f\"],[0.2222222222222222,\"#7201a8\"],[0.3333333333333333,\"#9c179e\"],[0.4444444444444444,\"#bd3786\"],[0.5555555555555556,\"#d8576b\"],[0.6666666666666666,\"#ed7953\"],[0.7777777777777778,\"#fb9f3a\"],[0.8888888888888888,\"#fdca26\"],[1.0,\"#f0f921\"]]}],\"surface\":[{\"type\":\"surface\",\"colorbar\":{\"outlinewidth\":0,\"ticks\":\"\"},\"colorscale\":[[0.0,\"#0d0887\"],[0.1111111111111111,\"#46039f\"],[0.2222222222222222,\"#7201a8\"],[0.3333333333333333,\"#9c179e\"],[0.4444444444444444,\"#bd3786\"],[0.5555555555555556,\"#d8576b\"],[0.6666666666666666,\"#ed7953\"],[0.7777777777777778,\"#fb9f3a\"],[0.8888888888888888,\"#fdca26\"],[1.0,\"#f0f921\"]]}],\"mesh3d\":[{\"type\":\"mesh3d\",\"colorbar\":{\"outlinewidth\":0,\"ticks\":\"\"}}],\"scatter\":[{\"fillpattern\":{\"fillmode\":\"overlay\",\"size\":10,\"solidity\":0.2},\"type\":\"scatter\"}],\"parcoords\":[{\"type\":\"parcoords\",\"line\":{\"colorbar\":{\"outlinewidth\":0,\"ticks\":\"\"}}}],\"scatterpolargl\":[{\"type\":\"scatterpolargl\",\"marker\":{\"colorbar\":{\"outlinewidth\":0,\"ticks\":\"\"}}}],\"bar\":[{\"error_x\":{\"color\":\"#2a3f5f\"},\"error_y\":{\"color\":\"#2a3f5f\"},\"marker\":{\"line\":{\"color\":\"#E5ECF6\",\"width\":0.5},\"pattern\":{\"fillmode\":\"overlay\",\"size\":10,\"solidity\":0.2}},\"type\":\"bar\"}],\"scattergeo\":[{\"type\":\"scattergeo\",\"marker\":{\"colorbar\":{\"outlinewidth\":0,\"ticks\":\"\"}}}],\"scatterpolar\":[{\"type\":\"scatterpolar\",\"marker\":{\"colorbar\":{\"outlinewidth\":0,\"ticks\":\"\"}}}],\"histogram\":[{\"marker\":{\"pattern\":{\"fillmode\":\"overlay\",\"size\":10,\"solidity\":0.2}},\"type\":\"histogram\"}],\"scattergl\":[{\"type\":\"scattergl\",\"marker\":{\"colorbar\":{\"outlinewidth\":0,\"ticks\":\"\"}}}],\"scatter3d\":[{\"type\":\"scatter3d\",\"line\":{\"colorbar\":{\"outlinewidth\":0,\"ticks\":\"\"}},\"marker\":{\"colorbar\":{\"outlinewidth\":0,\"ticks\":\"\"}}}],\"scattermapbox\":[{\"type\":\"scattermapbox\",\"marker\":{\"colorbar\":{\"outlinewidth\":0,\"ticks\":\"\"}}}],\"scatterternary\":[{\"type\":\"scatterternary\",\"marker\":{\"colorbar\":{\"outlinewidth\":0,\"ticks\":\"\"}}}],\"scattercarpet\":[{\"type\":\"scattercarpet\",\"marker\":{\"colorbar\":{\"outlinewidth\":0,\"ticks\":\"\"}}}],\"carpet\":[{\"aaxis\":{\"endlinecolor\":\"#2a3f5f\",\"gridcolor\":\"white\",\"linecolor\":\"white\",\"minorgridcolor\":\"white\",\"startlinecolor\":\"#2a3f5f\"},\"baxis\":{\"endlinecolor\":\"#2a3f5f\",\"gridcolor\":\"white\",\"linecolor\":\"white\",\"minorgridcolor\":\"white\",\"startlinecolor\":\"#2a3f5f\"},\"type\":\"carpet\"}],\"table\":[{\"cells\":{\"fill\":{\"color\":\"#EBF0F8\"},\"line\":{\"color\":\"white\"}},\"header\":{\"fill\":{\"color\":\"#C8D4E3\"},\"line\":{\"color\":\"white\"}},\"type\":\"table\"}],\"barpolar\":[{\"marker\":{\"line\":{\"color\":\"#E5ECF6\",\"width\":0.5},\"pattern\":{\"fillmode\":\"overlay\",\"size\":10,\"solidity\":0.2}},\"type\":\"barpolar\"}],\"pie\":[{\"automargin\":true,\"type\":\"pie\"}]},\"layout\":{\"autotypenumbers\":\"strict\",\"colorway\":[\"#636efa\",\"#EF553B\",\"#00cc96\",\"#ab63fa\",\"#FFA15A\",\"#19d3f3\",\"#FF6692\",\"#B6E880\",\"#FF97FF\",\"#FECB52\"],\"font\":{\"color\":\"#2a3f5f\"},\"hovermode\":\"closest\",\"hoverlabel\":{\"align\":\"left\"},\"paper_bgcolor\":\"white\",\"plot_bgcolor\":\"#E5ECF6\",\"polar\":{\"bgcolor\":\"#E5ECF6\",\"angularaxis\":{\"gridcolor\":\"white\",\"linecolor\":\"white\",\"ticks\":\"\"},\"radialaxis\":{\"gridcolor\":\"white\",\"linecolor\":\"white\",\"ticks\":\"\"}},\"ternary\":{\"bgcolor\":\"#E5ECF6\",\"aaxis\":{\"gridcolor\":\"white\",\"linecolor\":\"white\",\"ticks\":\"\"},\"baxis\":{\"gridcolor\":\"white\",\"linecolor\":\"white\",\"ticks\":\"\"},\"caxis\":{\"gridcolor\":\"white\",\"linecolor\":\"white\",\"ticks\":\"\"}},\"coloraxis\":{\"colorbar\":{\"outlinewidth\":0,\"ticks\":\"\"}},\"colorscale\":{\"sequential\":[[0.0,\"#0d0887\"],[0.1111111111111111,\"#46039f\"],[0.2222222222222222,\"#7201a8\"],[0.3333333333333333,\"#9c179e\"],[0.4444444444444444,\"#bd3786\"],[0.5555555555555556,\"#d8576b\"],[0.6666666666666666,\"#ed7953\"],[0.7777777777777778,\"#fb9f3a\"],[0.8888888888888888,\"#fdca26\"],[1.0,\"#f0f921\"]],\"sequentialminus\":[[0.0,\"#0d0887\"],[0.1111111111111111,\"#46039f\"],[0.2222222222222222,\"#7201a8\"],[0.3333333333333333,\"#9c179e\"],[0.4444444444444444,\"#bd3786\"],[0.5555555555555556,\"#d8576b\"],[0.6666666666666666,\"#ed7953\"],[0.7777777777777778,\"#fb9f3a\"],[0.8888888888888888,\"#fdca26\"],[1.0,\"#f0f921\"]],\"diverging\":[[0,\"#8e0152\"],[0.1,\"#c51b7d\"],[0.2,\"#de77ae\"],[0.3,\"#f1b6da\"],[0.4,\"#fde0ef\"],[0.5,\"#f7f7f7\"],[0.6,\"#e6f5d0\"],[0.7,\"#b8e186\"],[0.8,\"#7fbc41\"],[0.9,\"#4d9221\"],[1,\"#276419\"]]},\"xaxis\":{\"gridcolor\":\"white\",\"linecolor\":\"white\",\"ticks\":\"\",\"title\":{\"standoff\":15},\"zerolinecolor\":\"white\",\"automargin\":true,\"zerolinewidth\":2},\"yaxis\":{\"gridcolor\":\"white\",\"linecolor\":\"white\",\"ticks\":\"\",\"title\":{\"standoff\":15},\"zerolinecolor\":\"white\",\"automargin\":true,\"zerolinewidth\":2},\"scene\":{\"xaxis\":{\"backgroundcolor\":\"#E5ECF6\",\"gridcolor\":\"white\",\"linecolor\":\"white\",\"showbackground\":true,\"ticks\":\"\",\"zerolinecolor\":\"white\",\"gridwidth\":2},\"yaxis\":{\"backgroundcolor\":\"#E5ECF6\",\"gridcolor\":\"white\",\"linecolor\":\"white\",\"showbackground\":true,\"ticks\":\"\",\"zerolinecolor\":\"white\",\"gridwidth\":2},\"zaxis\":{\"backgroundcolor\":\"#E5ECF6\",\"gridcolor\":\"white\",\"linecolor\":\"white\",\"showbackground\":true,\"ticks\":\"\",\"zerolinecolor\":\"white\",\"gridwidth\":2}},\"shapedefaults\":{\"line\":{\"color\":\"#2a3f5f\"}},\"annotationdefaults\":{\"arrowcolor\":\"#2a3f5f\",\"arrowhead\":0,\"arrowwidth\":1},\"geo\":{\"bgcolor\":\"white\",\"landcolor\":\"#E5ECF6\",\"subunitcolor\":\"white\",\"showland\":true,\"showlakes\":true,\"lakecolor\":\"white\"},\"title\":{\"x\":0.05},\"mapbox\":{\"style\":\"light\"}}},\"scene\":{\"domain\":{\"x\":[0.0,1.0],\"y\":[0.0,1.0]},\"xaxis\":{\"title\":{\"text\":\"x\"}},\"yaxis\":{\"title\":{\"text\":\"y\"}},\"zaxis\":{\"title\":{\"text\":\"z\"}}},\"legend\":{\"title\":{\"text\":\"color\"},\"tracegroupgap\":0},\"margin\":{\"t\":60}},                        {\"responsive\": true}                    ).then(function(){\n",
       "                            \n",
       "var gd = document.getElementById('1eb51e0c-a22d-408b-bfcf-6a1862a641ab');\n",
       "var x = new MutationObserver(function (mutations, observer) {{\n",
       "        var display = window.getComputedStyle(gd).display;\n",
       "        if (!display || display === 'none') {{\n",
       "            console.log([gd, 'removed!']);\n",
       "            Plotly.purge(gd);\n",
       "            observer.disconnect();\n",
       "        }}\n",
       "}});\n",
       "\n",
       "// Listen for the removal of the full notebook cells\n",
       "var notebookContainer = gd.closest('#notebook-container');\n",
       "if (notebookContainer) {{\n",
       "    x.observe(notebookContainer, {childList: true});\n",
       "}}\n",
       "\n",
       "// Listen for the clearing of the current output cell\n",
       "var outputEl = gd.closest('.output');\n",
       "if (outputEl) {{\n",
       "    x.observe(outputEl, {childList: true});\n",
       "}}\n",
       "\n",
       "                        })                };                });            </script>        </div>"
      ]
     },
     "metadata": {},
     "output_type": "display_data"
    }
   ],
   "source": [
    "import plotly.express as px\n",
    "\n",
    "# fig = px.scatter_3d(z, x=0, y=1, z=2)\n",
    "\n",
    "import plotly.io as pio\n",
    "print(pio.renderers)\n",
    "pio.renderers.default = \"notebook_connected\"\n",
    "\n",
    "# Show the plot\n",
    "import pandas as pd\n",
    "z_df = pd.DataFrame(z, columns=['x','y','z'])\n",
    "\n",
    "fig = px.scatter_3d(data_frame=z_df, x='x', y='y', z='z', color=['r','g', 'b'])\n",
    "fig.show()\n"
   ]
  },
  {
   "cell_type": "code",
   "execution_count": 11,
   "metadata": {},
   "outputs": [
    {
     "data": {
      "text/plain": [
       "array([[-4.49530104e-01,  2.91445004e-01,  3.50092946e-16],\n",
       "       [-4.68583954e-01, -2.87440420e-01,  3.50092946e-16],\n",
       "       [ 9.18114058e-01, -4.00458459e-03,  3.50092946e-16]])"
      ]
     },
     "execution_count": 11,
     "metadata": {},
     "output_type": "execute_result"
    }
   ],
   "source": [
    "z"
   ]
  },
  {
   "cell_type": "code",
   "execution_count": null,
   "metadata": {},
   "outputs": [],
   "source": []
  },
  {
   "cell_type": "markdown",
   "metadata": {},
   "source": [
    "## Let's build something!"
   ]
  },
  {
   "cell_type": "code",
   "execution_count": 22,
   "metadata": {},
   "outputs": [],
   "source": [
    "openai.api_key = os.getenv(\"OPENAI_API_KEY\")"
   ]
  },
  {
   "cell_type": "code",
   "execution_count": 24,
   "metadata": {},
   "outputs": [],
   "source": [
    "# data_file = \"wild-delights-obooko.pdf\"\n",
    "# data_file = \"1511.08458v2.pdf\"\n",
    "# data_file = \"2022_Annual_Report.docx\"\n",
    "data_file = \"resume_1.pdf\"\n",
    "\n",
    "if data_file.endswith(\".pdf\"):\n",
    "    loader = PyPDFLoader(os.path.join(os.getcwd(), f\"data/{data_file}\"))\n",
    "elif data_file.endswith(\".docx\"):\n",
    "    loader = Docx2txtLoader(os.path.join(os.getcwd(), f\"data/{data_file}\"))\n",
    "else:\n",
    "    loader = TextLoader(os.path.join(os.getcwd(), f\"data/{data_file}\"))\n",
    "\n",
    "data = loader.load()"
   ]
  },
  {
   "cell_type": "markdown",
   "metadata": {},
   "source": [
    "### Split Document"
   ]
  },
  {
   "cell_type": "code",
   "execution_count": 25,
   "metadata": {},
   "outputs": [
    {
     "name": "stdout",
     "output_type": "stream",
     "text": [
      "7\n"
     ]
    },
    {
     "data": {
      "text/plain": [
       "[Document(page_content='Noob Developer\\n+0x0x0x0x0x | noob@noob.com \\nEDUCATION\\nUNIVERSITY OF TESTING \\nBachelor of Science in Computer Science, June 2024\\nEXPERIENCE\\nBackend Developer | Company Name:\\nOct 2022 - Feb 2023\\n●\\nDeveloped authentication System with OAuth 2.0\\n●\\nWorked with various data storage technologies, such as PostgreSQL, MySQL,\\nMongoDB, and Redis, depending on the requirements and constraints of the\\nprojects.\\n●\\nCollaborated with Front-end developers to integrate user-facing elements with\\nserver-side logic\\n●', metadata={'source': '/Users/kamal/Documents/docspeaker/data/resume_1.pdf', 'page': 0}),\n",
       " Document(page_content='Deployed and maintained applications on various hosting platforms, such as\\nAWS, Heroku using Docker \\n●\\nWorked to integrate dif ferent payment options with dif ferent paywall APIs such as \\nPaypal, Stripe, and Paystack.\\nPROJECTS\\nShoSho Media (Django, PostgreSQL, AWS)\\nHere \\n● Used Django to create a social network where people of similar hobbies can meet\\nand connect.\\n● Deployed using Heroku and hosted static files with AWS S3 buckets.', metadata={'source': '/Users/kamal/Documents/docspeaker/data/resume_1.pdf', 'page': 0}),\n",
       " Document(page_content='● Implemented multiple features such as chat, notifications, comments, and\\nthreads.\\n● Implemented tag search functionality with AJAX.\\n● Used Django to query the database to get user-specific results\\n● Handed of f well-documented and easily modifiable code to the client\\nTaxiHub App (Django Rest Framework, Web Sockets, React)\\nHere\\n● Created a real-time web app that enables users to create orders and broadcast\\nthem to nearby drivers.', metadata={'source': '/Users/kamal/Documents/docspeaker/data/resume_1.pdf', 'page': 0}),\n",
       " Document(page_content='● Deployed API Layers in a containerized environment with Docker .', metadata={'source': '/Users/kamal/Documents/docspeaker/data/resume_1.pdf', 'page': 0}),\n",
       " Document(page_content=\"●\\nCreated reusable UI components using React Bootstrap to improve the\\napplication's user interface and user experience.\\n●\\nUtilized Axios to make asynchronous requests to the API, and used Redux to\\nmanage global state and to simplify data management.\\nLibrary Management System App (Django, Htmx)\\nHere\\n● Developed a library management system using Django web framework, which\\nallows librarians to keep track of books, borrowers, and transactions.\", metadata={'source': '/Users/kamal/Documents/docspeaker/data/resume_1.pdf', 'page': 1}),\n",
       " Document(page_content=\"● Implemented user authentication and authorization using Django's built-in\\nauthentication system and custom permissions.\\n● Created a user-friendly interface using HTML, CSS, and JavaScript, allowing\\nlibrarians to easily search for and manage books, borrowers, and transactions.\\n●\\nDeployed the library management system to a production server using the WSGI\\nweb server and Gunicorn application server\\nOther projects can be found in my GitHub repository .\\nHere\\nTechnologies and Languages\\n●\", metadata={'source': '/Users/kamal/Documents/docspeaker/data/resume_1.pdf', 'page': 1}),\n",
       " Document(page_content='Programming Languages:\\nPython, C#, Javascript\\n●\\nFramework:\\nDjango, React\\n●\\nTools:\\nGit, AWS,MYSQL, PostgreSQL, Docker', metadata={'source': '/Users/kamal/Documents/docspeaker/data/resume_1.pdf', 'page': 1})]"
      ]
     },
     "execution_count": 25,
     "metadata": {},
     "output_type": "execute_result"
    }
   ],
   "source": [
    "text_splitter = RecursiveCharacterTextSplitter(chunk_size = 500, chunk_overlap = 0)\n",
    "all_splits = text_splitter.split_documents(data)\n",
    "print(len(all_splits))\n",
    "all_splits"
   ]
  },
  {
   "cell_type": "markdown",
   "metadata": {},
   "source": [
    "### Store embeddings of each split"
   ]
  },
  {
   "cell_type": "code",
   "execution_count": 15,
   "metadata": {},
   "outputs": [
    {
     "name": "stdout",
     "output_type": "stream",
     "text": [
      "Found model file at  /Users/kamal/.cache/gpt4all/ggml-all-MiniLM-L6-v2-f16.bin\n"
     ]
    }
   ],
   "source": [
    "### Could use OpenAI embeddings if wanted\n",
    "# vectorstore = Chroma.from_documents(documents=all_splits, embedding=OpenAIEmbeddings())\n",
    "vectorstore = Chroma.from_documents(documents=all_splits, embedding=GPT4AllEmbeddings())"
   ]
  },
  {
   "cell_type": "code",
   "execution_count": 16,
   "metadata": {},
   "outputs": [],
   "source": [
    "## General questions\n",
    "instructions = \"Please answer the following questions about the candidate. Your answers should be bullet points.\"\n",
    "question1 = \"Can you summarize the candidate's experience? What are their strengths and weaknesses?\"\n",
    "question2 = \"Would this be a good hire for a junior position? \"\n",
    "question3 = \"Can you suggest improvements to the CV to make it stand out more?\"\n",
    "\n",
    "## More specific questions\n",
    "question4 = \"Does the candidate have experience in Python?\"\n",
    "\n",
    "## Fun questions\n",
    "question5 = \"Roast this resume.\""
   ]
  },
  {
   "cell_type": "markdown",
   "metadata": {},
   "source": [
    "### Create ChatGPT model with Memory"
   ]
  },
  {
   "cell_type": "code",
   "execution_count": null,
   "metadata": {},
   "outputs": [],
   "source": [
    "# If you have a beefy computer you can download and run gpt4all locally\n",
    "# local_path = (os.path.join(os.getcwd(), \"models/wizardlm-13b-v1.1-superhot-8k.ggmlv3.q4_0.bin\"))\n",
    "# llm = GPT4All(model=local_path, verbose=True)\n",
    "\n",
    "llm = ChatOpenAI(model_name=\"gpt-3.5-turbo\", temperature=0)\n",
    "\n",
    "from langchain.chains import ConversationalRetrievalChain\n",
    "from langchain.memory import ConversationBufferMemory\n",
    "\n",
    "memory = ConversationBufferMemory(memory_key=\"chat_history\", return_messages=True)\n",
    "\n",
    "qa_chain = ConversationalRetrievalChain.from_llm(llm, vectorstore.as_retriever(), memory=memory)"
   ]
  },
  {
   "cell_type": "code",
   "execution_count": null,
   "metadata": {},
   "outputs": [],
   "source": [
    "ans1 = qa_chain({\"question\": instructions+question1})\n",
    "ans2 = qa_chain({\"question\": instructions+question2})\n",
    "ans3 = qa_chain({\"question\": instructions+question3})\n",
    "ans4 = qa_chain({\"question\": instructions+question4})\n",
    "ans5 = qa_chain({\"question\": instructions+question5})"
   ]
  },
  {
   "cell_type": "markdown",
   "metadata": {},
   "source": [
    "### Q1. Can you summarize the candidate's experience? What are their strengths and weaknesses"
   ]
  },
  {
   "cell_type": "code",
   "execution_count": null,
   "metadata": {},
   "outputs": [
    {
     "name": "stdout",
     "output_type": "stream",
     "text": [
      "Experience:\n",
      "- Backend Developer at Company Name from Oct 2022 to Feb 2023\n",
      "  - Developed authentication system with OAuth 2.0\n",
      "  - Worked with various data storage technologies (PostgreSQL, MySQL, MongoDB, Redis)\n",
      "  - Collaborated with Front-end developers to integrate user-facing elements with server-side logic\n",
      "  - Implemented features such as chat, notifications, comments, and threads\n",
      "  - Implemented tag search functionality with AJAX\n",
      "  - Used Django to query the database for user-specific results\n",
      "  - Created a real-time web app (TaxiHub) for creating orders and broadcasting them to nearby drivers\n",
      "\n",
      "Strengths:\n",
      "- Proficient in backend development and authentication systems\n",
      "- Experience with various data storage technologies\n",
      "- Strong collaboration skills with front-end developers\n",
      "- Ability to implement multiple features and functionalities\n",
      "- Familiarity with Django and web sockets for real-time applications\n",
      "\n",
      "Weaknesses:\n",
      "- No information provided about specific challenges faced or problem-solving skills\n",
      "- Limited timeframe of experience (Oct 2022 to Feb 2023)\n",
      "- No information provided about scalability or performance optimization skills\n"
     ]
    }
   ],
   "source": [
    "print(ans1[\"answer\"])"
   ]
  },
  {
   "cell_type": "markdown",
   "metadata": {},
   "source": [
    "### Q2. Would this be a good hire for a junior position? "
   ]
  },
  {
   "cell_type": "code",
   "execution_count": null,
   "metadata": {},
   "outputs": [
    {
     "name": "stdout",
     "output_type": "stream",
     "text": [
      "Based on the provided information, the candidate appears to have relevant experience as a Backend Developer and has worked with various data storage technologies. They have also collaborated with Front-end developers and implemented user authentication and authorization. Additionally, they have deployed a project to a production server and have experience with technologies such as Django, HTML, CSS, and JavaScript. Overall, the candidate seems to have the necessary skills and experience for a junior position.\n"
     ]
    }
   ],
   "source": [
    "print(ans2[\"answer\"])"
   ]
  },
  {
   "cell_type": "markdown",
   "metadata": {},
   "source": [
    "### Q3. Can you suggest improvements to the CV to make it stand out more?"
   ]
  },
  {
   "cell_type": "code",
   "execution_count": null,
   "metadata": {},
   "outputs": [
    {
     "name": "stdout",
     "output_type": "stream",
     "text": [
      "To make the candidate's CV stand out more, here are some improvements that can be suggested:\n",
      "\n",
      "1. Add a summary or objective statement: Begin the CV with a brief summary or objective statement that highlights the candidate's key skills, experiences, and career goals. This will give employers a quick overview of the candidate's qualifications.\n",
      "\n",
      "2. Highlight specific achievements: Instead of just listing job responsibilities, emphasize specific achievements and outcomes from previous experiences. This could include successful projects, improvements made, or any recognition received.\n",
      "\n",
      "3. Provide more details about projects: For each experience, provide more details about the projects the candidate worked on. Include information about the technologies used, the scope of the project, and the impact it had on the organization or users.\n",
      "\n",
      "4. Include relevant coursework: Since the candidate is a recent graduate, including relevant coursework can showcase their knowledge and skills in specific areas of computer science. This can help differentiate them from other candidates.\n",
      "\n",
      "5. Showcase collaboration and teamwork: Highlight instances where the candidate collaborated with front-end developers or other team members to integrate user-facing elements. This demonstrates their ability to work well in a team and their understanding of the full development process.\n",
      "\n",
      "6. Mention soft skills: In addition to technical skills, mention any soft skills that are relevant to the role, such as communication, problem-solving, or time management. These skills are valuable in a professional setting and can set the candidate apart.\n",
      "\n",
      "7. Provide links to portfolio or GitHub: If the candidate has a portfolio website or a GitHub profile with relevant projects, include links in the CV. This allows employers to see the candidate's work firsthand and assess their coding abilities.\n",
      "\n",
      "8. Format and design: Ensure that the CV is well-organized, easy to read, and visually appealing. Use bullet points, headings, and appropriate spacing to make the information easily scannable. Consider using a professional CV template to enhance the overall design.\n",
      "\n",
      "9. Proofread for errors: Double-check the CV for any grammatical or spelling errors. A polished and error-free CV shows attention to detail and professionalism.\n",
      "\n",
      "10. Tailor the CV to the job: Customize the CV for each job application by highlighting the most relevant skills and experiences. This shows that the candidate has taken the time to understand the job requirements and can effectively communicate their suitability for the role.\n"
     ]
    }
   ],
   "source": [
    "print(ans3[\"answer\"])"
   ]
  },
  {
   "cell_type": "markdown",
   "metadata": {},
   "source": [
    "### Q4. Does the candidate have experience in Python?"
   ]
  },
  {
   "cell_type": "code",
   "execution_count": null,
   "metadata": {},
   "outputs": [
    {
     "name": "stdout",
     "output_type": "stream",
     "text": [
      "Yes, the candidate has experience in Python.\n"
     ]
    }
   ],
   "source": [
    "print(ans4[\"answer\"])"
   ]
  },
  {
   "cell_type": "markdown",
   "metadata": {},
   "source": [
    "### Q.5 Roast my resume"
   ]
  },
  {
   "cell_type": "code",
   "execution_count": null,
   "metadata": {},
   "outputs": [
    {
     "name": "stdout",
     "output_type": "stream",
     "text": [
      "Based on the provided context, here are some areas for improvement in this resume:\n",
      "\n",
      "1. Lack of specific details: The resume could benefit from including specific details about the projects and tasks accomplished. For example, instead of just mentioning the use of React Bootstrap and Axios, it would be helpful to mention specific features or functionalities implemented using these tools.\n",
      "\n",
      "2. Missing information about project scope and impact: It would be beneficial to include information about the scale and impact of the projects worked on. For example, mentioning the number of users or the size of the team involved in the library management system project would provide a better understanding of the candidate's experience.\n",
      "\n",
      "3. Limited mention of programming languages and frameworks: While the resume mentions Python, C#, and JavaScript as programming languages, it does not provide any information about the level of proficiency or specific projects completed using these languages. Similarly, the resume mentions Django and React as frameworks, but it would be helpful to include more details about the projects developed using these frameworks.\n",
      "\n",
      "4. Lack of information about tools and technologies: The resume mentions Git, AWS, MySQL, PostgreSQL, and Docker as tools, but it does not provide any information about the specific tasks or projects where these tools were utilized. Including specific examples of how these tools were used would enhance the resume.\n",
      "\n",
      "5. Missing information about soft skills and teamwork: The resume focuses primarily on technical skills and project details. It would be beneficial to include information about soft skills, such as communication, problem-solving, and teamwork, to provide a more well-rounded view of the candidate's abilities.\n",
      "\n",
      "Overall, the resume could be improved by providing more specific details, including information about project scope and impact, highlighting proficiency in programming languages and frameworks, providing examples of tool usage, and including information about soft skills and teamwork.\n"
     ]
    }
   ],
   "source": [
    "print(ans5[\"answer\"])"
   ]
  },
  {
   "cell_type": "markdown",
   "metadata": {},
   "source": [
    "### How is the correct split chosen to send to ChatGPT?"
   ]
  },
  {
   "cell_type": "code",
   "execution_count": null,
   "metadata": {},
   "outputs": [
    {
     "data": {
      "text/plain": [
       "[(Document(page_content='Programming Languages:\\nPython, C#, Javascript\\n●\\nFramework:\\nDjango, React\\n●\\nTools:\\nGit, AWS,MYSQL, PostgreSQL, Docker', metadata={'page': 1, 'source': '/Users/kamal/Documents/docspeaker/data/Resume Dummy.pdf'}),\n",
       "  1.3652894496917725),\n",
       " (Document(page_content='Programming Languages:\\nPython, C#, Javascript\\n●\\nFramework:\\nDjango, React\\n●\\nTools:\\nGit, AWS,MYSQL, PostgreSQL, Docker', metadata={'page': 1, 'source': '/Users/kamal/Documents/docspeaker/data/resume_1.pdf'}),\n",
       "  1.3652894496917725),\n",
       " (Document(page_content=\"● Implemented user authentication and authorization using Django's built-in\\nauthentication system and custom permissions.\\n● Created a user-friendly interface using HTML, CSS, and JavaScript, allowing\\nlibrarians to easily search for and manage books, borrowers, and transactions.\\n●\\nDeployed the library management system to a production server using the WSGI\\nweb server and Gunicorn application server\\nOther projects can be found in my GitHub repository .\\nHere\\nTechnologies and Languages\\n●\", metadata={'page': 1, 'source': '/Users/kamal/Documents/docspeaker/data/Resume Dummy.pdf'}),\n",
       "  1.5152150392532349),\n",
       " (Document(page_content=\"● Implemented user authentication and authorization using Django's built-in\\nauthentication system and custom permissions.\\n● Created a user-friendly interface using HTML, CSS, and JavaScript, allowing\\nlibrarians to easily search for and manage books, borrowers, and transactions.\\n●\\nDeployed the library management system to a production server using the WSGI\\nweb server and Gunicorn application server\\nOther projects can be found in my GitHub repository .\\nHere\\nTechnologies and Languages\\n●\", metadata={'page': 1, 'source': '/Users/kamal/Documents/docspeaker/data/resume_1.pdf'}),\n",
       "  1.5152150392532349)]"
      ]
     },
     "execution_count": 87,
     "metadata": {},
     "output_type": "execute_result"
    }
   ],
   "source": [
    "### In cases where we are looking for specific information, we can use the following\n",
    "docs = vectorstore.similarity_search_with_score(question4)\n",
    "len(docs)\n",
    "docs"
   ]
  }
 ],
 "metadata": {
  "kernelspec": {
   "display_name": "myenv",
   "language": "python",
   "name": "python3"
  },
  "language_info": {
   "codemirror_mode": {
    "name": "ipython",
    "version": 3
   },
   "file_extension": ".py",
   "mimetype": "text/x-python",
   "name": "python",
   "nbconvert_exporter": "python",
   "pygments_lexer": "ipython3",
   "version": "3.11.4"
  },
  "orig_nbformat": 4
 },
 "nbformat": 4,
 "nbformat_minor": 2
}
