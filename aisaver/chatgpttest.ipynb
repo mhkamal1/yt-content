{
 "cells": [
  {
   "cell_type": "code",
   "execution_count": 269,
   "metadata": {},
   "outputs": [],
   "source": [
    "import os\n",
    "import openai\n",
    "from langchain.agents import create_csv_agent\n",
    "from langchain.llms import OpenAI\n",
    "from langchain.chat_models import ChatOpenAI\n",
    "from langchain.agents.agent_types import AgentType\n",
    "\n",
    "# https://www.kaggle.com/datasets/tharunprabu/my-expenses-data"
   ]
  },
  {
   "cell_type": "code",
   "execution_count": 270,
   "metadata": {},
   "outputs": [],
   "source": [
    "openai.api_key = os.getenv(\"OPENAI_API_KEY\")"
   ]
  },
  {
   "cell_type": "code",
   "execution_count": 271,
   "metadata": {},
   "outputs": [],
   "source": [
    "agent = create_csv_agent(ChatOpenAI(model_name=\"gpt-3.5-turbo\", temperature=0), \n",
    "                         '/Users/kamal/Documents/aisaver/data/expense_data_1_filtered.csv', \n",
    "                         verbose=True,\n",
    "                         agent_type=AgentType.OPENAI_FUNCTIONS)"
   ]
  },
  {
   "cell_type": "markdown",
   "metadata": {},
   "source": [
    "### Asking Questions"
   ]
  },
  {
   "cell_type": "code",
   "execution_count": 272,
   "metadata": {},
   "outputs": [
    {
     "name": "stdout",
     "output_type": "stream",
     "text": [
      "\n",
      "\n",
      "\u001b[1m> Entering new AgentExecutor chain...\u001b[0m\n",
      "\u001b[32;1m\u001b[1;3m\n",
      "Invoking: `python_repl_ast` with `df.describe()`\n",
      "\n",
      "\n",
      "\u001b[0m\u001b[36;1m\u001b[1;3m       Subcategory          INR  Note.1       Amount    Account.1\n",
      "count          0.0    89.000000     0.0    89.000000    89.000000\n",
      "mean           NaN   321.847640     NaN   309.423820   309.423820\n",
      "std            NaN   998.681666     NaN   995.503226   995.503226\n",
      "min            NaN    10.000000     NaN    10.000000    10.000000\n",
      "25%            NaN    30.000000     NaN    30.000000    30.000000\n",
      "50%            NaN    80.000000     NaN    80.000000    80.000000\n",
      "75%            NaN   239.000000     NaN   200.000000   200.000000\n",
      "max            NaN  8000.000000     NaN  8000.000000  8000.000000\u001b[0m\u001b[32;1m\u001b[1;3mThe `describe()` function provides a statistical summary of the numerical columns in the dataframe `df`. Here is the description of each column:\n",
      "\n",
      "- `Subcategory`: This column has no non-null values, so there is no statistical summary available.\n",
      "- `INR`: This column represents the amount in Indian Rupees (INR). The statistical summary shows the count, mean, standard deviation, minimum value, 25th percentile, 50th percentile (median), 75th percentile, and maximum value of the data.\n",
      "- `Note.1`: This column has no non-null values, so there is no statistical summary available.\n",
      "- `Amount`: This column represents the amount. The statistical summary shows the count, mean, standard deviation, minimum value, 25th percentile, 50th percentile (median), 75th percentile, and maximum value of the data.\n",
      "- `Account.1`: This column represents the account. The statistical summary shows the count, mean, standard deviation, minimum value, 25th percentile, 50th percentile (median), 75th percentile, and maximum value of the data.\n",
      "\n",
      "Please note that the statistical summary is only available for numerical columns.\u001b[0m\n",
      "\n",
      "\u001b[1m> Finished chain.\u001b[0m\n"
     ]
    },
    {
     "data": {
      "text/plain": [
       "'The `describe()` function provides a statistical summary of the numerical columns in the dataframe `df`. Here is the description of each column:\\n\\n- `Subcategory`: This column has no non-null values, so there is no statistical summary available.\\n- `INR`: This column represents the amount in Indian Rupees (INR). The statistical summary shows the count, mean, standard deviation, minimum value, 25th percentile, 50th percentile (median), 75th percentile, and maximum value of the data.\\n- `Note.1`: This column has no non-null values, so there is no statistical summary available.\\n- `Amount`: This column represents the amount. The statistical summary shows the count, mean, standard deviation, minimum value, 25th percentile, 50th percentile (median), 75th percentile, and maximum value of the data.\\n- `Account.1`: This column represents the account. The statistical summary shows the count, mean, standard deviation, minimum value, 25th percentile, 50th percentile (median), 75th percentile, and maximum value of the data.\\n\\nPlease note that the statistical summary is only available for numerical columns.'"
      ]
     },
     "execution_count": 272,
     "metadata": {},
     "output_type": "execute_result"
    }
   ],
   "source": [
    "agent.run(\"Can you describe the dataset\")"
   ]
  },
  {
   "cell_type": "code",
   "execution_count": 273,
   "metadata": {},
   "outputs": [
    {
     "name": "stdout",
     "output_type": "stream",
     "text": [
      "\n",
      "\n",
      "\u001b[1m> Entering new AgentExecutor chain...\u001b[0m\n",
      "\u001b[32;1m\u001b[1;3m\n",
      "Invoking: `python_repl_ast` with `df.groupby('Category')['Amount'].sum()`\n",
      "\n",
      "\n",
      "\u001b[0m\u001b[36;1m\u001b[1;3mCategory\n",
      "Allowance           11000.00\n",
      "Apparel              2590.00\n",
      "Beauty                196.00\n",
      "Food                 5335.00\n",
      "Household            4800.00\n",
      "Other                1790.00\n",
      "Self-development      400.00\n",
      "Social Life           513.72\n",
      "Transportation        914.00\n",
      "Name: Amount, dtype: float64\u001b[0m\u001b[32;1m\u001b[1;3mHere is the sum of expenses for each category:\n",
      "\n",
      "- Allowance: 11000.00\n",
      "- Apparel: 2590.00\n",
      "- Beauty: 196.00\n",
      "- Food: 5335.00\n",
      "- Household: 4800.00\n",
      "- Other: 1790.00\n",
      "- Self-development: 400.00\n",
      "- Social Life: 513.72\n",
      "- Transportation: 914.00\u001b[0m\n",
      "\n",
      "\u001b[1m> Finished chain.\u001b[0m\n"
     ]
    },
    {
     "data": {
      "text/plain": [
       "'Here is the sum of expenses for each category:\\n\\n- Allowance: 11000.00\\n- Apparel: 2590.00\\n- Beauty: 196.00\\n- Food: 5335.00\\n- Household: 4800.00\\n- Other: 1790.00\\n- Self-development: 400.00\\n- Social Life: 513.72\\n- Transportation: 914.00'"
      ]
     },
     "execution_count": 273,
     "metadata": {},
     "output_type": "execute_result"
    }
   ],
   "source": [
    "agent.run(\"For each category, can you sum up the expenses for me?\")"
   ]
  },
  {
   "cell_type": "code",
   "execution_count": 276,
   "metadata": {},
   "outputs": [
    {
     "name": "stdout",
     "output_type": "stream",
     "text": [
      "\n",
      "\n",
      "\u001b[1m> Entering new AgentExecutor chain...\u001b[0m\n"
     ]
    },
    {
     "ename": "OutputParserException",
     "evalue": "Could not parse tool input: {'name': 'python', 'arguments': \"# Summing up expenses for each category\\ncategory_expenses = df[df['Income/Expense'] == 'Expense'].groupby('Category')['Amount'].sum()\\ncategory_expenses\"} because the `arguments` is not valid JSON.",
     "output_type": "error",
     "traceback": [
      "\u001b[0;31m---------------------------------------------------------------------------\u001b[0m",
      "\u001b[0;31mJSONDecodeError\u001b[0m                           Traceback (most recent call last)",
      "File \u001b[0;32m~/miniconda3/envs/myenv/lib/python3.11/site-packages/langchain/agents/openai_functions_agent/base.py:113\u001b[0m, in \u001b[0;36m_parse_ai_message\u001b[0;34m(message)\u001b[0m\n\u001b[1;32m    112\u001b[0m \u001b[39mtry\u001b[39;00m:\n\u001b[0;32m--> 113\u001b[0m     _tool_input \u001b[39m=\u001b[39m json\u001b[39m.\u001b[39;49mloads(function_call[\u001b[39m\"\u001b[39;49m\u001b[39marguments\u001b[39;49m\u001b[39m\"\u001b[39;49m])\n\u001b[1;32m    114\u001b[0m \u001b[39mexcept\u001b[39;00m JSONDecodeError:\n",
      "File \u001b[0;32m~/miniconda3/envs/myenv/lib/python3.11/json/__init__.py:346\u001b[0m, in \u001b[0;36mloads\u001b[0;34m(s, cls, object_hook, parse_float, parse_int, parse_constant, object_pairs_hook, **kw)\u001b[0m\n\u001b[1;32m    343\u001b[0m \u001b[39mif\u001b[39;00m (\u001b[39mcls\u001b[39m \u001b[39mis\u001b[39;00m \u001b[39mNone\u001b[39;00m \u001b[39mand\u001b[39;00m object_hook \u001b[39mis\u001b[39;00m \u001b[39mNone\u001b[39;00m \u001b[39mand\u001b[39;00m\n\u001b[1;32m    344\u001b[0m         parse_int \u001b[39mis\u001b[39;00m \u001b[39mNone\u001b[39;00m \u001b[39mand\u001b[39;00m parse_float \u001b[39mis\u001b[39;00m \u001b[39mNone\u001b[39;00m \u001b[39mand\u001b[39;00m\n\u001b[1;32m    345\u001b[0m         parse_constant \u001b[39mis\u001b[39;00m \u001b[39mNone\u001b[39;00m \u001b[39mand\u001b[39;00m object_pairs_hook \u001b[39mis\u001b[39;00m \u001b[39mNone\u001b[39;00m \u001b[39mand\u001b[39;00m \u001b[39mnot\u001b[39;00m kw):\n\u001b[0;32m--> 346\u001b[0m     \u001b[39mreturn\u001b[39;00m _default_decoder\u001b[39m.\u001b[39;49mdecode(s)\n\u001b[1;32m    347\u001b[0m \u001b[39mif\u001b[39;00m \u001b[39mcls\u001b[39m \u001b[39mis\u001b[39;00m \u001b[39mNone\u001b[39;00m:\n",
      "File \u001b[0;32m~/miniconda3/envs/myenv/lib/python3.11/json/decoder.py:337\u001b[0m, in \u001b[0;36mJSONDecoder.decode\u001b[0;34m(self, s, _w)\u001b[0m\n\u001b[1;32m    333\u001b[0m \u001b[39m\u001b[39m\u001b[39m\"\"\"Return the Python representation of ``s`` (a ``str`` instance\u001b[39;00m\n\u001b[1;32m    334\u001b[0m \u001b[39mcontaining a JSON document).\u001b[39;00m\n\u001b[1;32m    335\u001b[0m \n\u001b[1;32m    336\u001b[0m \u001b[39m\"\"\"\u001b[39;00m\n\u001b[0;32m--> 337\u001b[0m obj, end \u001b[39m=\u001b[39m \u001b[39mself\u001b[39;49m\u001b[39m.\u001b[39;49mraw_decode(s, idx\u001b[39m=\u001b[39;49m_w(s, \u001b[39m0\u001b[39;49m)\u001b[39m.\u001b[39;49mend())\n\u001b[1;32m    338\u001b[0m end \u001b[39m=\u001b[39m _w(s, end)\u001b[39m.\u001b[39mend()\n",
      "File \u001b[0;32m~/miniconda3/envs/myenv/lib/python3.11/json/decoder.py:355\u001b[0m, in \u001b[0;36mJSONDecoder.raw_decode\u001b[0;34m(self, s, idx)\u001b[0m\n\u001b[1;32m    354\u001b[0m \u001b[39mexcept\u001b[39;00m \u001b[39mStopIteration\u001b[39;00m \u001b[39mas\u001b[39;00m err:\n\u001b[0;32m--> 355\u001b[0m     \u001b[39mraise\u001b[39;00m JSONDecodeError(\u001b[39m\"\u001b[39m\u001b[39mExpecting value\u001b[39m\u001b[39m\"\u001b[39m, s, err\u001b[39m.\u001b[39mvalue) \u001b[39mfrom\u001b[39;00m \u001b[39mNone\u001b[39;00m\n\u001b[1;32m    356\u001b[0m \u001b[39mreturn\u001b[39;00m obj, end\n",
      "\u001b[0;31mJSONDecodeError\u001b[0m: Expecting value: line 1 column 1 (char 0)",
      "\nDuring handling of the above exception, another exception occurred:\n",
      "\u001b[0;31mOutputParserException\u001b[0m                     Traceback (most recent call last)",
      "Cell \u001b[0;32mIn[276], line 1\u001b[0m\n\u001b[0;32m----> 1\u001b[0m agent\u001b[39m.\u001b[39;49mrun(\u001b[39m\"\"\"\u001b[39;49m\u001b[39mFor each category, can you sum up the expenses for me?\u001b[39;49m\n\u001b[1;32m      2\u001b[0m \u001b[39m          Once this has been done, can you suggest some ways to reduce expenses and increase savings?\u001b[39;49m\u001b[39m\"\"\"\u001b[39;49m)\n",
      "File \u001b[0;32m~/miniconda3/envs/myenv/lib/python3.11/site-packages/langchain/chains/base.py:475\u001b[0m, in \u001b[0;36mChain.run\u001b[0;34m(self, callbacks, tags, metadata, *args, **kwargs)\u001b[0m\n\u001b[1;32m    473\u001b[0m     \u001b[39mif\u001b[39;00m \u001b[39mlen\u001b[39m(args) \u001b[39m!=\u001b[39m \u001b[39m1\u001b[39m:\n\u001b[1;32m    474\u001b[0m         \u001b[39mraise\u001b[39;00m \u001b[39mValueError\u001b[39;00m(\u001b[39m\"\u001b[39m\u001b[39m`run` supports only one positional argument.\u001b[39m\u001b[39m\"\u001b[39m)\n\u001b[0;32m--> 475\u001b[0m     \u001b[39mreturn\u001b[39;00m \u001b[39mself\u001b[39;49m(args[\u001b[39m0\u001b[39;49m], callbacks\u001b[39m=\u001b[39;49mcallbacks, tags\u001b[39m=\u001b[39;49mtags, metadata\u001b[39m=\u001b[39;49mmetadata)[\n\u001b[1;32m    476\u001b[0m         _output_key\n\u001b[1;32m    477\u001b[0m     ]\n\u001b[1;32m    479\u001b[0m \u001b[39mif\u001b[39;00m kwargs \u001b[39mand\u001b[39;00m \u001b[39mnot\u001b[39;00m args:\n\u001b[1;32m    480\u001b[0m     \u001b[39mreturn\u001b[39;00m \u001b[39mself\u001b[39m(kwargs, callbacks\u001b[39m=\u001b[39mcallbacks, tags\u001b[39m=\u001b[39mtags, metadata\u001b[39m=\u001b[39mmetadata)[\n\u001b[1;32m    481\u001b[0m         _output_key\n\u001b[1;32m    482\u001b[0m     ]\n",
      "File \u001b[0;32m~/miniconda3/envs/myenv/lib/python3.11/site-packages/langchain/chains/base.py:282\u001b[0m, in \u001b[0;36mChain.__call__\u001b[0;34m(self, inputs, return_only_outputs, callbacks, tags, metadata, include_run_info)\u001b[0m\n\u001b[1;32m    280\u001b[0m \u001b[39mexcept\u001b[39;00m (\u001b[39mKeyboardInterrupt\u001b[39;00m, \u001b[39mException\u001b[39;00m) \u001b[39mas\u001b[39;00m e:\n\u001b[1;32m    281\u001b[0m     run_manager\u001b[39m.\u001b[39mon_chain_error(e)\n\u001b[0;32m--> 282\u001b[0m     \u001b[39mraise\u001b[39;00m e\n\u001b[1;32m    283\u001b[0m run_manager\u001b[39m.\u001b[39mon_chain_end(outputs)\n\u001b[1;32m    284\u001b[0m final_outputs: Dict[\u001b[39mstr\u001b[39m, Any] \u001b[39m=\u001b[39m \u001b[39mself\u001b[39m\u001b[39m.\u001b[39mprep_outputs(\n\u001b[1;32m    285\u001b[0m     inputs, outputs, return_only_outputs\n\u001b[1;32m    286\u001b[0m )\n",
      "File \u001b[0;32m~/miniconda3/envs/myenv/lib/python3.11/site-packages/langchain/chains/base.py:276\u001b[0m, in \u001b[0;36mChain.__call__\u001b[0;34m(self, inputs, return_only_outputs, callbacks, tags, metadata, include_run_info)\u001b[0m\n\u001b[1;32m    270\u001b[0m run_manager \u001b[39m=\u001b[39m callback_manager\u001b[39m.\u001b[39mon_chain_start(\n\u001b[1;32m    271\u001b[0m     dumpd(\u001b[39mself\u001b[39m),\n\u001b[1;32m    272\u001b[0m     inputs,\n\u001b[1;32m    273\u001b[0m )\n\u001b[1;32m    274\u001b[0m \u001b[39mtry\u001b[39;00m:\n\u001b[1;32m    275\u001b[0m     outputs \u001b[39m=\u001b[39m (\n\u001b[0;32m--> 276\u001b[0m         \u001b[39mself\u001b[39;49m\u001b[39m.\u001b[39;49m_call(inputs, run_manager\u001b[39m=\u001b[39;49mrun_manager)\n\u001b[1;32m    277\u001b[0m         \u001b[39mif\u001b[39;00m new_arg_supported\n\u001b[1;32m    278\u001b[0m         \u001b[39melse\u001b[39;00m \u001b[39mself\u001b[39m\u001b[39m.\u001b[39m_call(inputs)\n\u001b[1;32m    279\u001b[0m     )\n\u001b[1;32m    280\u001b[0m \u001b[39mexcept\u001b[39;00m (\u001b[39mKeyboardInterrupt\u001b[39;00m, \u001b[39mException\u001b[39;00m) \u001b[39mas\u001b[39;00m e:\n\u001b[1;32m    281\u001b[0m     run_manager\u001b[39m.\u001b[39mon_chain_error(e)\n",
      "File \u001b[0;32m~/miniconda3/envs/myenv/lib/python3.11/site-packages/langchain/agents/agent.py:1036\u001b[0m, in \u001b[0;36mAgentExecutor._call\u001b[0;34m(self, inputs, run_manager)\u001b[0m\n\u001b[1;32m   1034\u001b[0m \u001b[39m# We now enter the agent loop (until it returns something).\u001b[39;00m\n\u001b[1;32m   1035\u001b[0m \u001b[39mwhile\u001b[39;00m \u001b[39mself\u001b[39m\u001b[39m.\u001b[39m_should_continue(iterations, time_elapsed):\n\u001b[0;32m-> 1036\u001b[0m     next_step_output \u001b[39m=\u001b[39m \u001b[39mself\u001b[39;49m\u001b[39m.\u001b[39;49m_take_next_step(\n\u001b[1;32m   1037\u001b[0m         name_to_tool_map,\n\u001b[1;32m   1038\u001b[0m         color_mapping,\n\u001b[1;32m   1039\u001b[0m         inputs,\n\u001b[1;32m   1040\u001b[0m         intermediate_steps,\n\u001b[1;32m   1041\u001b[0m         run_manager\u001b[39m=\u001b[39;49mrun_manager,\n\u001b[1;32m   1042\u001b[0m     )\n\u001b[1;32m   1043\u001b[0m     \u001b[39mif\u001b[39;00m \u001b[39misinstance\u001b[39m(next_step_output, AgentFinish):\n\u001b[1;32m   1044\u001b[0m         \u001b[39mreturn\u001b[39;00m \u001b[39mself\u001b[39m\u001b[39m.\u001b[39m_return(\n\u001b[1;32m   1045\u001b[0m             next_step_output, intermediate_steps, run_manager\u001b[39m=\u001b[39mrun_manager\n\u001b[1;32m   1046\u001b[0m         )\n",
      "File \u001b[0;32m~/miniconda3/envs/myenv/lib/python3.11/site-packages/langchain/agents/agent.py:844\u001b[0m, in \u001b[0;36mAgentExecutor._take_next_step\u001b[0;34m(self, name_to_tool_map, color_mapping, inputs, intermediate_steps, run_manager)\u001b[0m\n\u001b[1;32m    842\u001b[0m     raise_error \u001b[39m=\u001b[39m \u001b[39mFalse\u001b[39;00m\n\u001b[1;32m    843\u001b[0m \u001b[39mif\u001b[39;00m raise_error:\n\u001b[0;32m--> 844\u001b[0m     \u001b[39mraise\u001b[39;00m e\n\u001b[1;32m    845\u001b[0m text \u001b[39m=\u001b[39m \u001b[39mstr\u001b[39m(e)\n\u001b[1;32m    846\u001b[0m \u001b[39mif\u001b[39;00m \u001b[39misinstance\u001b[39m(\u001b[39mself\u001b[39m\u001b[39m.\u001b[39mhandle_parsing_errors, \u001b[39mbool\u001b[39m):\n",
      "File \u001b[0;32m~/miniconda3/envs/myenv/lib/python3.11/site-packages/langchain/agents/agent.py:833\u001b[0m, in \u001b[0;36mAgentExecutor._take_next_step\u001b[0;34m(self, name_to_tool_map, color_mapping, inputs, intermediate_steps, run_manager)\u001b[0m\n\u001b[1;32m    830\u001b[0m     intermediate_steps \u001b[39m=\u001b[39m \u001b[39mself\u001b[39m\u001b[39m.\u001b[39m_prepare_intermediate_steps(intermediate_steps)\n\u001b[1;32m    832\u001b[0m     \u001b[39m# Call the LLM to see what to do.\u001b[39;00m\n\u001b[0;32m--> 833\u001b[0m     output \u001b[39m=\u001b[39m \u001b[39mself\u001b[39;49m\u001b[39m.\u001b[39;49magent\u001b[39m.\u001b[39;49mplan(\n\u001b[1;32m    834\u001b[0m         intermediate_steps,\n\u001b[1;32m    835\u001b[0m         callbacks\u001b[39m=\u001b[39;49mrun_manager\u001b[39m.\u001b[39;49mget_child() \u001b[39mif\u001b[39;49;00m run_manager \u001b[39melse\u001b[39;49;00m \u001b[39mNone\u001b[39;49;00m,\n\u001b[1;32m    836\u001b[0m         \u001b[39m*\u001b[39;49m\u001b[39m*\u001b[39;49minputs,\n\u001b[1;32m    837\u001b[0m     )\n\u001b[1;32m    838\u001b[0m \u001b[39mexcept\u001b[39;00m OutputParserException \u001b[39mas\u001b[39;00m e:\n\u001b[1;32m    839\u001b[0m     \u001b[39mif\u001b[39;00m \u001b[39misinstance\u001b[39m(\u001b[39mself\u001b[39m\u001b[39m.\u001b[39mhandle_parsing_errors, \u001b[39mbool\u001b[39m):\n",
      "File \u001b[0;32m~/miniconda3/envs/myenv/lib/python3.11/site-packages/langchain/agents/openai_functions_agent/base.py:222\u001b[0m, in \u001b[0;36mOpenAIFunctionsAgent.plan\u001b[0;34m(self, intermediate_steps, callbacks, with_functions, **kwargs)\u001b[0m\n\u001b[1;32m    217\u001b[0m \u001b[39melse\u001b[39;00m:\n\u001b[1;32m    218\u001b[0m     predicted_message \u001b[39m=\u001b[39m \u001b[39mself\u001b[39m\u001b[39m.\u001b[39mllm\u001b[39m.\u001b[39mpredict_messages(\n\u001b[1;32m    219\u001b[0m         messages,\n\u001b[1;32m    220\u001b[0m         callbacks\u001b[39m=\u001b[39mcallbacks,\n\u001b[1;32m    221\u001b[0m     )\n\u001b[0;32m--> 222\u001b[0m agent_decision \u001b[39m=\u001b[39m _parse_ai_message(predicted_message)\n\u001b[1;32m    223\u001b[0m \u001b[39mreturn\u001b[39;00m agent_decision\n",
      "File \u001b[0;32m~/miniconda3/envs/myenv/lib/python3.11/site-packages/langchain/agents/openai_functions_agent/base.py:115\u001b[0m, in \u001b[0;36m_parse_ai_message\u001b[0;34m(message)\u001b[0m\n\u001b[1;32m    113\u001b[0m     _tool_input \u001b[39m=\u001b[39m json\u001b[39m.\u001b[39mloads(function_call[\u001b[39m\"\u001b[39m\u001b[39marguments\u001b[39m\u001b[39m\"\u001b[39m])\n\u001b[1;32m    114\u001b[0m \u001b[39mexcept\u001b[39;00m JSONDecodeError:\n\u001b[0;32m--> 115\u001b[0m     \u001b[39mraise\u001b[39;00m OutputParserException(\n\u001b[1;32m    116\u001b[0m         \u001b[39mf\u001b[39m\u001b[39m\"\u001b[39m\u001b[39mCould not parse tool input: \u001b[39m\u001b[39m{\u001b[39;00mfunction_call\u001b[39m}\u001b[39;00m\u001b[39m because \u001b[39m\u001b[39m\"\u001b[39m\n\u001b[1;32m    117\u001b[0m         \u001b[39mf\u001b[39m\u001b[39m\"\u001b[39m\u001b[39mthe `arguments` is not valid JSON.\u001b[39m\u001b[39m\"\u001b[39m\n\u001b[1;32m    118\u001b[0m     )\n\u001b[1;32m    120\u001b[0m \u001b[39m# HACK HACK HACK:\u001b[39;00m\n\u001b[1;32m    121\u001b[0m \u001b[39m# The code that encodes tool input into Open AI uses a special variable\u001b[39;00m\n\u001b[1;32m    122\u001b[0m \u001b[39m# name called `__arg1` to handle old style tools that do not expose a\u001b[39;00m\n\u001b[1;32m    123\u001b[0m \u001b[39m# schema and expect a single string argument as an input.\u001b[39;00m\n\u001b[1;32m    124\u001b[0m \u001b[39m# We unpack the argument here if it exists.\u001b[39;00m\n\u001b[1;32m    125\u001b[0m \u001b[39m# Open AI does not support passing in a JSON array as an argument.\u001b[39;00m\n\u001b[1;32m    126\u001b[0m \u001b[39mif\u001b[39;00m \u001b[39m\"\u001b[39m\u001b[39m__arg1\u001b[39m\u001b[39m\"\u001b[39m \u001b[39min\u001b[39;00m _tool_input:\n",
      "\u001b[0;31mOutputParserException\u001b[0m: Could not parse tool input: {'name': 'python', 'arguments': \"# Summing up expenses for each category\\ncategory_expenses = df[df['Income/Expense'] == 'Expense'].groupby('Category')['Amount'].sum()\\ncategory_expenses\"} because the `arguments` is not valid JSON."
     ]
    }
   ],
   "source": [
    "agent.run(\"\"\"For each category, can you sum up the expenses for me?\n",
    "          Once this has been done, can you suggest some ways to reduce expenses and increase savings?\"\"\")"
   ]
  },
  {
   "cell_type": "code",
   "execution_count": 280,
   "metadata": {},
   "outputs": [
    {
     "name": "stdout",
     "output_type": "stream",
     "text": [
      "\n",
      "\n",
      "\u001b[1m> Entering new AgentExecutor chain...\u001b[0m\n",
      "\u001b[32;1m\u001b[1;3m\n",
      "Invoking: `python_repl_ast` with `expenses = df[df['Income/Expense'] == 'Expense']\n",
      "expenses_grouped = expenses.groupby('Category')['Amount'].sum()\n",
      "top_expenses = expenses_grouped.nlargest(3)\n",
      "top_expenses.index.tolist()`\n",
      "\n",
      "\n",
      "\u001b[0m\u001b[36;1m\u001b[1;3m['Food', 'Household', 'Apparel']\u001b[0m\u001b[32;1m\u001b[1;3mYou should take a closer look at the following expenses in order to reduce costs and increase savings: Food, Household, and Apparel.\u001b[0m\n",
      "\n",
      "\u001b[1m> Finished chain.\u001b[0m\n"
     ]
    },
    {
     "data": {
      "text/plain": [
       "'You should take a closer look at the following expenses in order to reduce costs and increase savings: Food, Household, and Apparel.'"
      ]
     },
     "execution_count": 280,
     "metadata": {},
     "output_type": "execute_result"
    }
   ],
   "source": [
    "agent.run(\"\"\"What expenses should I take a closer look at in order to reduce costs and increase savings. \n",
    "          Your response should have the following format: Expense1, Expense2, Expense3\"\"\")"
   ]
  },
  {
   "cell_type": "markdown",
   "metadata": {},
   "source": [
    "### Ground truth data analysis"
   ]
  },
  {
   "cell_type": "code",
   "execution_count": null,
   "metadata": {},
   "outputs": [
    {
     "data": {
      "text/plain": [
       "Index(['Date', 'Account', 'Category', 'Subcategory', 'Note', 'INR',\n",
       "       'Income/Expense', 'Note.1', 'Amount', 'Currency', 'Account.1'],\n",
       "      dtype='object')"
      ]
     },
     "execution_count": 196,
     "metadata": {},
     "output_type": "execute_result"
    }
   ],
   "source": [
    "import pandas as pd\n",
    "df1=pd.read_csv('data/expense_data_1_filtered.csv')\n",
    "df1.keys()"
   ]
  },
  {
   "cell_type": "code",
   "execution_count": null,
   "metadata": {},
   "outputs": [],
   "source": [
    "import pandas as pd\n",
    "# import datetime.datetime as dt\n",
    "from datetime import datetime\n",
    "\n",
    "format_str = \"%m/%d/%Y\"\n",
    "\n",
    "df=pd.read_csv('data/expense_data_1.csv')\n",
    "# for each month sum up the expense per category\n",
    "\n",
    "start_date = datetime.strptime('12/1/2021', format_str).date()\n",
    "end_date = datetime.strptime('12/31/2021', format_str).date()\n",
    "\n",
    "# df2 = pd.DataFrame(columns=['Category', 'Amount'])\n",
    "dictinfo = {}\n",
    "expenses = []\n",
    "\n",
    "for index, row in df.iterrows():\n",
    "    parsed_date = datetime.strptime(row['Date'].split(' ')[0], format_str).date()\n",
    "    \n",
    "    if start_date <= parsed_date <= end_date:\n",
    "        # print(row['Date'], row['Category'], row['Amount'])\n",
    "        if row['Income/Expense'] == 'Expense':\n",
    "            expenses.append(row['Category'])\n",
    "\n",
    "            dictinfo[row['Category']] = dictinfo.get(row['Category'], 0) + row['Amount']\n",
    "\n",
    "# for k,v in dictinfo.items():\n",
    "    # if k in expenses:\n",
    "    #     dictinfo[k] = -v"
   ]
  },
  {
   "cell_type": "code",
   "execution_count": null,
   "metadata": {},
   "outputs": [
    {
     "data": {
      "text/plain": [
       "[('Food', 5335.0),\n",
       " ('Household', 4800.0),\n",
       " ('Apparel', 2590.0),\n",
       " ('Transportation', 914.0),\n",
       " ('Social Life', 513.72),\n",
       " ('Other', 480.0),\n",
       " ('Self-development', 400.0),\n",
       " ('Beauty', 196.0)]"
      ]
     },
     "execution_count": 195,
     "metadata": {},
     "output_type": "execute_result"
    }
   ],
   "source": [
    "sorted(dictinfo.items(), key=lambda x: x[1])[::-1]"
   ]
  }
 ],
 "metadata": {
  "kernelspec": {
   "display_name": "myenv",
   "language": "python",
   "name": "python3"
  },
  "language_info": {
   "codemirror_mode": {
    "name": "ipython",
    "version": 3
   },
   "file_extension": ".py",
   "mimetype": "text/x-python",
   "name": "python",
   "nbconvert_exporter": "python",
   "pygments_lexer": "ipython3",
   "version": "3.11.4"
  },
  "orig_nbformat": 4
 },
 "nbformat": 4,
 "nbformat_minor": 2
}
