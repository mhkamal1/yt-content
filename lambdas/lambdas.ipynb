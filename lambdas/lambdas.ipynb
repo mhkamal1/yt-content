{
 "cells": [
  {
   "cell_type": "code",
   "execution_count": 26,
   "metadata": {},
   "outputs": [
    {
     "data": {
      "text/plain": [
       "120.0"
      ]
     },
     "execution_count": 26,
     "metadata": {},
     "output_type": "execute_result"
    }
   ],
   "source": [
    "from functools import reduce\n",
    "shopping_cart = [\n",
    "    {'item': 'Shirt', 'price': 20},\n",
    "    {'item': 'Jeans', 'price': 50},\n",
    "    {'item': 'Shoes', 'price': 80}\n",
    "]\n",
    "\n",
    "discount_rate = 0.2\n",
    "\n",
    "reduce(lambda acc, item: acc + (item['price'] * (1 - discount_rate)),\n",
    "       shopping_cart,\n",
    "       0)\n",
    "\n",
    "(((0+0.8*20)+0.8*50)+0.8*80)"
   ]
  }
 ],
 "metadata": {
  "kernelspec": {
   "display_name": "Python 3",
   "language": "python",
   "name": "python3"
  },
  "language_info": {
   "codemirror_mode": {
    "name": "ipython",
    "version": 3
   },
   "file_extension": ".py",
   "mimetype": "text/x-python",
   "name": "python",
   "nbconvert_exporter": "python",
   "pygments_lexer": "ipython3",
   "version": "3.8.16"
  },
  "orig_nbformat": 4
 },
 "nbformat": 4,
 "nbformat_minor": 2
}
